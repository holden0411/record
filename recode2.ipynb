{
 "cells": [
  {
   "cell_type": "code",
   "execution_count": null,
   "id": "b46b2d0e",
   "metadata": {},
   "outputs": [],
   "source": [
    "# 所需安裝套件\n",
    "# pip install python_speech_features\n",
    "# pip install SpeechRecognition\n",
    "# pip install PyAudio \n",
    "# pip install scipy"
   ]
  },
  {
   "cell_type": "code",
   "execution_count": 7,
   "id": "314ddce6",
   "metadata": {},
   "outputs": [],
   "source": [
    "# 臺灣言語工具 \n",
    "# https://i3thuan5.github.io/tai5-uan5_gian5-gi2_kang1-ku7/index.html \n",
    "\n",
    "# 引入語音辨識套件\n",
    "import speech_recognition\n",
    "import scipy.io.wavfile as wav\n",
    "r = speech_recognition.Recognizer()\n",
    "\n",
    "with speech_recognition.Microphone() as source:\n",
    "    audio=r.listen(source)\n"
   ]
  },
  {
   "cell_type": "code",
   "execution_count": 8,
   "id": "e53547aa",
   "metadata": {},
   "outputs": [
    {
     "name": "stdout",
     "output_type": "stream",
     "text": [
      "result2:\n",
      "{   'alternative': [   {   'confidence': 0.9226532,\n",
      "                           'transcript': '本保單再配息圖部分皮理解約和滿期給付時定時波動會影響保單帳戶價值可能會有獲利或虧損情形容領回金額有可能低於您所繳保費本商品收付幣別為了比如選擇其他幣別之投資標的匯率波動議會影響保單帳戶提領須自行承擔投資風險再叫他情境下會跆拳道大的投資虧損請問您是否了解了解'},\n",
      "                       {   'transcript': '本保單再配息圖部分埤裡解約和滿期給付時定時波動會影響保單帳戶價值可能會有獲利或虧損情形容領回金額有可能低於您所繳保費某商品收付幣別為了比如選擇其他幣別之投資標的匯率波動議會影響保單帳戶提領須自行承擔投資風險再叫他情境下會產生多大的投資虧損請問您是否了解了解'},\n",
      "                       {   'transcript': '本保單再配息圖部分皮理解約和滿期給付時定時波動會影響保單帳戶價值可能會有獲利或虧損情形容領回金額有可能低於您所繳保費某商品收付幣別為了比如選擇題它幣別之投資標的匯率波動議會影響保單帳戶提領須自行承擔投資風險再叫他情境下會跆拳道大的投資虧損請問您是否了解了解'},\n",
      "                       {   'transcript': '本保單再配息圖部分皮理解約和滿期給付時定時波動會影響保單帳戶價值可能會有獲利或虧損情形容領回金額有可能低於您所繳保費某商品收付幣別為了比如選擇題他幣別之投資標的匯率波動議會影響保單帳戶提領須自行承擔投資風險再叫他情境下會跆拳道大的投資虧損請問您是否了解了解'},\n",
      "                       {   'transcript': '本保單在配息圖部分皮理解約和滿期給付時定時波動會影響保單帳戶價值可能會有獲利或虧損情形容領回金額有可能低於您所繳保費某商品收付幣別為了比如選擇題它幣別之投資標的匯率波動議會影響保單帳戶提領須自行承擔投資風險再叫他情境下會跆拳道大的投資虧損請問您是否了解了解'}],\n",
      "    'final': True}\n",
      "本保單再配息圖部分皮理解約和滿期給付時定時波動會影響保單帳戶價值可能會有獲利或虧損情形容領回金額有可能低於您所繳保費本商品收付幣別為了比如選擇其他幣別之投資標的匯率波動議會影響保單帳戶提領須自行承擔投資風險再叫他情境下會跆拳道大的投資虧損請問您是否了解了解\n"
     ]
    }
   ],
   "source": [
    "# 執行語音辨識\n",
    "\n",
    "import speech_recognition as sr\n",
    "\n",
    "# Create an instance of the Recognizer class\n",
    "recognizer = sr.Recognizer()\n",
    "\n",
    "# Create audio file instance from the original file\n",
    "audio_ex = sr.AudioFile('20230202_225448.wav')\n",
    "type(audio_ex)\n",
    "\n",
    "# Create audio data\n",
    "with audio_ex as source:\n",
    "    audiodata = recognizer.record(audio_ex)\n",
    "type(audiodata)\n",
    "\n",
    "# Extract text\n",
    "text = recognizer.recognize_google(audio_data=audiodata, language='zh-TW')\n",
    "\n",
    "print(text)"
   ]
  },
  {
   "cell_type": "code",
   "execution_count": null,
   "id": "34d1b743",
   "metadata": {},
   "outputs": [],
   "source": [
    "# 建立文件夾將辨識的字串存成word\n",
    "import os,sys,time\n",
    "\n",
    "\n",
    "if not os.path.exists(\"./RECODE\"):\n",
    "    os.mkdir(\"./RECODE\")\n",
    "\n",
    "def GetNowTime():\n",
    "    return time.strftime(\"%y%m%d%H%M%S\"),time.localtime(time.time())\n",
    "time = GetNowTime()\n",
    "fname1=\"./RECODE{}.docx\".format(time)\n",
    "t=open(fname1.encode('utf-8'),'w')\n",
    "t.write(\"text\")\n",
    "t.close()\n"
   ]
  },
  {
   "cell_type": "code",
   "execution_count": null,
   "id": "9228d96d",
   "metadata": {},
   "outputs": [],
   "source": [
    "# 安裝斷詞套件\n",
    "# pip install jieba"
   ]
  },
  {
   "cell_type": "code",
   "execution_count": null,
   "id": "ec04e1b4",
   "metadata": {},
   "outputs": [],
   "source": [
    "# 引入斷詞\n",
    "\n",
    "import jieba\n",
    "\n",
    "documents = [text]\n",
    "# 精確模式\n",
    "for sentence in documents:\n",
    "    seg_list = jieba.cut(sentence)\n",
    "    print('/'.join(seg_list))\n",
    "\n",
    "print('---------------')\n",
    "\n",
    "# 全模式\n",
    "for sentence in documents:\n",
    "    seg_list = jieba.cut(sentence, cut_all=True)\n",
    "    print('/'.join(seg_list))\n",
    "\n",
    "print('---------------')\n",
    "    \n",
    "# 搜索引擎模式\n",
    "for sentence in documents:\n",
    "    seg_list = jieba.cut_for_search(sentence)\n",
    "    print('/'.join(seg_list))"
   ]
  },
  {
   "cell_type": "code",
   "execution_count": null,
   "id": "5c68cf2c",
   "metadata": {
    "scrolled": true
   },
   "outputs": [],
   "source": [
    "import jieba\n",
    "\n",
    "documents = [text]\n",
    "# 精確模式\n",
    "for sentence in documents:\n",
    "    seg_list = jieba.lcut(sentence)\n",
    "    print(seg_list)\n",
    "\n",
    "print('---------------')\n",
    "\n",
    "# 全模式\n",
    "for sentence in documents:\n",
    "    seg_list = jieba.lcut(sentence, cut_all=True)\n",
    "    print(seg_list)\n",
    "\n",
    "print('---------------')\n",
    "\n",
    "# 搜索引擎模式\n",
    "for sentence in documents:\n",
    "    seg_list = jieba.lcut_for_search(sentence)\n",
    "    print(seg_list)"
   ]
  },
  {
   "cell_type": "code",
   "execution_count": 1,
   "id": "2bfbee69",
   "metadata": {},
   "outputs": [],
   "source": [
    "# https://ckip.iis.sinica.edu.tw/\n",
    "# 引入CKIP Tagger — 中文斷詞暨實體辨識系統\n",
    "# pip install -U ckiptagger[tf,gdown] # 完整安裝\n",
    "from ckiptagger import data_utils, construct_dictionary, WS, POS, NER"
   ]
  },
  {
   "cell_type": "code",
   "execution_count": 2,
   "id": "57bf036e",
   "metadata": {},
   "outputs": [
    {
     "name": "stderr",
     "output_type": "stream",
     "text": [
      "Downloading...\n",
      "From: https://drive.google.com/uc?id=1efHsY16pxK0lBD2gYCgCTnv1Swstq771\n",
      "To: C:\\Users\\holde\\python\\record\\data.zip\n",
      "100%|██████████| 1.88G/1.88G [02:09<00:00, 14.4MB/s]\n"
     ]
    }
   ],
   "source": [
    "# 下載至 ./data.zip (2GB) 然後解壓縮至 ./data/\n",
    "data_utils.download_data_url(\"./\") # iis-ckip\n",
    "data_utils.download_data_gdown(\"./\") # gdrive-ckip"
   ]
  },
  {
   "cell_type": "code",
   "execution_count": 3,
   "id": "b6f8d419",
   "metadata": {},
   "outputs": [
    {
     "name": "stderr",
     "output_type": "stream",
     "text": [
      "C:\\Users\\holde\\anaconda3\\envs\\old_record\\lib\\site-packages\\ckiptagger\\model_ws.py:106: UserWarning: `tf.nn.rnn_cell.LSTMCell` is deprecated and will be removed in a future version. This class is equivalent as `tf.keras.layers.LSTMCell`, and will be replaced by that in Tensorflow 2.0.\n",
      "  cell = tf.compat.v1.nn.rnn_cell.LSTMCell(hidden_d, name=name)\n",
      "C:\\Users\\holde\\anaconda3\\envs\\old_record\\lib\\site-packages\\ckiptagger\\model_pos.py:56: UserWarning: `tf.nn.rnn_cell.LSTMCell` is deprecated and will be removed in a future version. This class is equivalent as `tf.keras.layers.LSTMCell`, and will be replaced by that in Tensorflow 2.0.\n",
      "  cell = tf.compat.v1.nn.rnn_cell.LSTMCell(hidden_d, name=name)\n",
      "C:\\Users\\holde\\anaconda3\\envs\\old_record\\lib\\site-packages\\ckiptagger\\model_ner.py:57: UserWarning: `tf.nn.rnn_cell.LSTMCell` is deprecated and will be removed in a future version. This class is equivalent as `tf.keras.layers.LSTMCell`, and will be replaced by that in Tensorflow 2.0.\n",
      "  cell = tf.compat.v1.nn.rnn_cell.LSTMCell(hidden_d, name=name)\n"
     ]
    }
   ],
   "source": [
    "# 讀取\n",
    "\n",
    "ws = WS(\"./data\")\n",
    "pos = POS(\"./data\")\n",
    "ner = NER(\"./data\")\n",
    "\n",
    "# 釋放資源\n",
    "\n",
    "# del ws\n",
    "# del pos\n",
    "# del ner"
   ]
  },
  {
   "cell_type": "code",
   "execution_count": 4,
   "id": "391d1515",
   "metadata": {},
   "outputs": [
    {
     "name": "stdout",
     "output_type": "stream",
     "text": [
      "[(4, {'部分提領': 1.0}), (6, {'保單帳戶價值': 1.0}), (12, {'中國人壽保險股份有限公司': 1.0})]\n"
     ]
    }
   ],
   "source": [
    "#建立詞典 斷詞參考詞典與權重\n",
    "word_to_weight = {\n",
    "    \"中國人壽保險股份有限公司\":1,\n",
    "    \"保單帳戶價值\":1,\n",
    "    \"部分提領\":1,\n",
    "}\n",
    "dictionary = construct_dictionary(word_to_weight)\n",
    "print(dictionary)"
   ]
  },
  {
   "cell_type": "code",
   "execution_count": 5,
   "id": "68ff6c6e",
   "metadata": {},
   "outputs": [
    {
     "name": "stdout",
     "output_type": "stream",
     "text": [
      "[(4, {'部分提領': 1.0}), (6, {'保單帳戶價值': 1.0}), (7, {'投保的商品目的': 1.0, '低於您所繳保費': 1.0}), (12, {'中國人壽股份保險有限公司': 1.0})]\n"
     ]
    }
   ],
   "source": [
    "#建立詞典 斷詞強制詞典與權重\n",
    "word_to_weight_s = {\n",
    "    \"中國人壽股份保險有限公司\":1,\n",
    "    \"保單帳戶價值\":1,\n",
    "    \"部分提領\":1,\n",
    "    \"投保的商品目的\":1,\n",
    "    \"低於您所繳保費\":1,\n",
    "}\n",
    "dictionary2 = construct_dictionary(word_to_weight_s)\n",
    "print(dictionary2)"
   ]
  },
  {
   "cell_type": "code",
   "execution_count": 9,
   "id": "26c36215",
   "metadata": {},
   "outputs": [],
   "source": [
    "\n",
    "sentence_list = [text]\n",
    "\n",
    "word_sentence_list = ws(\n",
    "    sentence_list,\n",
    "    # sentence_segmentation = True, # To consider delimiters\n",
    "    # segment_delimiter_set = {\",\", \"。\", \":\", \"?\", \"!\", \";\"}), # This is the defualt set of delimiters\n",
    "     recommend_dictionary = dictionary, # words in this dictionary are encouraged\n",
    "     coerce_dictionary = dictionary2, # words in this dictionary are forced\n",
    ")\n",
    "\n",
    "pos_sentence_list = pos(word_sentence_list)\n",
    "\n",
    "entity_sentence_list = ner(word_sentence_list, pos_sentence_list)"
   ]
  },
  {
   "cell_type": "code",
   "execution_count": 10,
   "id": "83d2bcb0",
   "metadata": {},
   "outputs": [
    {
     "name": "stdout",
     "output_type": "stream",
     "text": [
      "------------------文本-----------------------------\n",
      "'本保單再配息圖部分皮理解約和滿期給付時定時波動會影響保單帳戶價值可能會有獲利或虧損情形容領回金額有可能低於您所繳保費本商品收付幣別為了比如選擇其他幣別之投資標的匯率波動議會影響保單帳戶提領須自行承擔投資風險再叫他情境下會跆拳道大的投資虧損請問您是否了解了解'\n",
      "------------------斷詞-----------------------------\n",
      "本(Nes)\n",
      "保單(Na)\n",
      "再(D)\n",
      "配息圖(Na)\n",
      "部分(Neqa)\n",
      "皮理(Na)\n",
      "解約(VA)\n",
      "和(Caa)\n",
      "滿(Neqa)\n",
      "期(Nf)\n",
      "給付(VD)\n",
      "時(Ng)\n",
      "定時(VH)\n",
      "波動(VAC)\n",
      "會(D)\n",
      "影響(VC)\n",
      "保單帳戶價值(Na)\n",
      "可能(D)\n",
      "會(D)\n",
      "有(V_2)\n",
      "獲利(VH)\n",
      "或(Caa)\n",
      "虧損(Na)\n",
      "情(Na)\n",
      "形容(VE)\n",
      "領回(VC)\n",
      "金額(Na)\n",
      "有(V_2)\n",
      "可能(Na)\n",
      "低於您所繳保費(Na)\n",
      "本(Nes)\n",
      "商品(Na)\n",
      "收付(VC)\n",
      "幣別(Na)\n",
      "為(P)\n",
      "了(Di)\n",
      "比如(P)\n",
      "選擇(VC)\n",
      "其他(Neqa)\n",
      "幣別(Na)\n",
      "之(DE)\n",
      "投資(VC)\n",
      "標的(Na)\n",
      "匯率(Na)\n",
      "波動(VAC)\n",
      "議會(Nc)\n",
      "影響(VC)\n",
      "保單(Na)\n",
      "帳戶(Na)\n",
      "提領(VC)\n",
      "須(D)\n",
      "自行(D)\n",
      "承擔(VC)\n",
      "投資(Na)\n",
      "風險(Na)\n",
      "再(D)\n",
      "叫(VL)\n",
      "他(Nh)\n",
      "情境(Na)\n",
      "下(Ng)\n",
      "會(D)\n",
      "跆拳道大(VH)\n",
      "的(DE)\n",
      "投資(VC)\n",
      "虧損(Na)\n",
      "請問(VE)\n",
      "您(Nh)\n",
      "是否(D)\n",
      "了(Di)\n",
      "解(VC)\n",
      "了(Di)\n",
      "解(VC)\n",
      "\n"
     ]
    }
   ],
   "source": [
    "def print_word_pos_sentence(word_sentence, pos_sentence):\n",
    "    assert len(word_sentence) == len(pos_sentence)\n",
    "    for word, pos in zip(word_sentence, pos_sentence):\n",
    "        print(f\"{word}({pos})\", end=\"\\n\")\n",
    "    print()\n",
    "    return\n",
    "    \n",
    "for i, sentence in enumerate(sentence_list):\n",
    "    print('------------------文本-----------------------------')\n",
    "    print(f\"'{sentence}'\" )\n",
    "    print('------------------斷詞-----------------------------')\n",
    "    print_word_pos_sentence(word_sentence_list[i],  pos_sentence_list[i])\n",
    "    for entity in sorted(entity_sentence_list[i]):\n",
    "        print(entity)"
   ]
  },
  {
   "cell_type": "code",
   "execution_count": null,
   "id": "b33a36e4",
   "metadata": {},
   "outputs": [],
   "source": [
    "# pip install python-docx\n",
    "# pip install docxtpl"
   ]
  },
  {
   "cell_type": "code",
   "execution_count": null,
   "id": "0b1aaf84",
   "metadata": {},
   "outputs": [],
   "source": [
    "# 導入套件\n",
    "from docx import Document\n",
    "from openpyxl import load_workbook  # 讀取excel\n",
    "from docxtpl import DocxTemplate # 寫入doc\n",
    "import os"
   ]
  },
  {
   "cell_type": "code",
   "execution_count": null,
   "id": "98249752",
   "metadata": {},
   "outputs": [],
   "source": [
    "# 讀取版本table\n",
    "wb2 =load_workbook(r\"C:\\Users\\User\\test2.xlsx\")\n",
    "ws2 =wb2['Sheet1']\n",
    "contexts_version = []\n",
    "for row in range(2,ws2.max_row+1):\n",
    "    plancode = ws2[\"A\"+str(row)].value\n",
    "    version =ws2[\"B\"+str(row)].value\n",
    "    \n",
    "    context2 = {\"plancode\":plancode,\"version\":version}\n",
    "    contexts_version .append(context2)\n",
    "\n",
    "print(contexts_version)"
   ]
  },
  {
   "cell_type": "code",
   "execution_count": null,
   "id": "29ad47ac",
   "metadata": {},
   "outputs": [],
   "source": [
    "# 讀取要保資料\n",
    "wb =load_workbook(r\"C:\\Users\\User\\test1.xlsx\")\n",
    "ws =wb['Sheet1']\n",
    "contexts = []\n",
    "for row in range(2,ws.max_row+1):\n",
    "    name = ws[\"A\"+str(row)].value\n",
    "    idno = ws[\"B\"+str(row)].value\n",
    "    plancode = ws[\"C\"+str(row)].value\n",
    "    Product = ws[\"D\"+str(row)].value\n",
    "    premium =ws[\"E\"+str(row)].value\n",
    "    purpos =ws[\"F\"+str(row)].value\n",
    "    \n",
    "    context = {\"name\":name ,\"idno\":idno ,\"plancode\":plancode,\"Product\":Product,\"premium\":premium,\"purpos\":purpos}\n",
    "    contexts.append(context)\n",
    "print(contexts)\n"
   ]
  },
  {
   "cell_type": "code",
   "execution_count": null,
   "id": "5000ba97",
   "metadata": {},
   "outputs": [],
   "source": [
    "# 比對要保資料中險種對應的宣讀版本\n",
    "for item in contexts_version:\n",
    "    for item_2 in contexts:\n",
    "         if(item['plancode']==item_2['plancode']):\n",
    "            print(item['version'],item_2['plancode'],item_2['name'])\n"
   ]
  },
  {
   "cell_type": "code",
   "execution_count": null,
   "id": "357cc6f4",
   "metadata": {},
   "outputs": [],
   "source": [
    "# 建立文件夾\n",
    "\n",
    "if not os.path.exists(\"./ALL\"):\n",
    "    os.mkdir(\"./ALL\")\n",
    "\n",
    "# 依照版本進行data binding\n",
    "    \n",
    "for context in contexts:\n",
    "    for item in contexts_version:\n",
    "            if(item['plancode']==context['plancode']):\n",
    "                tpl = DocxTemplate(r\"C:\\Users\\User\\{}.docx\".format(item[\"version\"]))\n",
    "                tpl.render(context)\n",
    "                tpl.save(\"./ALL/{}.docx\".format(context[\"name\"]))"
   ]
  },
  {
   "cell_type": "code",
   "execution_count": null,
   "id": "cc2e2861",
   "metadata": {},
   "outputs": [],
   "source": [
    "# 進行文本比對\n",
    "\n",
    "import docx\n",
    "import codecs\n",
    "import difflib\n",
    "import webbrowser  \n",
    "\n",
    "file1 = docx.Document('./ALL/陳翁明.docx')\n",
    "file2 = docx.Document('./ALL/陳曉明.docx')\n",
    "\n",
    "para1=''\n",
    "para2=''\n",
    "\n",
    "\n",
    "for para in file1.paragraphs:\n",
    "    para1=para1+para.text+'\\n'\n",
    "# print(para1)\n",
    "for para in file2.paragraphs:\n",
    "    para2=para2+para.text+'\\n'\n",
    "# print(para2)\n",
    "\n",
    "d = difflib.HtmlDiff()\n",
    "htmlContent = d.make_file(para1,para2)\n",
    "#print(htmlContent)\n",
    "with open('diff.html','w',encoding = 'utf-8') as f:\n",
    "    f.write(htmlContent)\n",
    "    \n",
    "urL='diff.html'\n",
    "webbrowser.get('windows-default').open_new(urL)"
   ]
  },
  {
   "cell_type": "code",
   "execution_count": null,
   "id": "b503acf6",
   "metadata": {},
   "outputs": [],
   "source": [
    "d = difflib.Differ()\n",
    "print(''.join(list(d.compare(para1,para2))))"
   ]
  },
  {
   "cell_type": "code",
   "execution_count": null,
   "id": "a0b6dfb7",
   "metadata": {},
   "outputs": [],
   "source": [
    "# TTS\n",
    "# pip install pyttsx3 安裝套件\n",
    "# pip install gTTs 安裝套件\n",
    "from gtts import gTTS\n",
    "from gtts import gTTS\n",
    "import os\n",
    "\n",
    "#此句為輸入的文字\n",
    "# mytext = '張禹崴先生/女士，您好！我是中國人壽的王羽藍獲得授權招攬保險商品資格，登錄字號是00902525451。根據法令規定，我將以全程錄音方式記錄本次銷售過程。請問您是否同意?'\n",
    "mytext = text\n",
    "language = 'zh-tw'\n",
    "myobj = gTTS(text=mytext, lang=language, slow=False)\n",
    "#儲存為output的mp3檔案\n",
    "myobj.save(\"output.mp3\")\n",
    "\n",
    "os.system(\"start output.mp3\")"
   ]
  },
  {
   "cell_type": "code",
   "execution_count": null,
   "id": "e4c4bd84",
   "metadata": {},
   "outputs": [],
   "source": [
    "# 導入模糊比對\n",
    "# pip install fuzzywuzzy\n",
    "\n",
    "from fuzzywuzzy import fuzz\n",
    "from fuzzywuzzy import process\n",
    "\n",
    "# 比對字串\n",
    "compareScore = fuzz.ratio('資料分析師','資料分析師')\n",
    "print(compareScore)\n",
    "\n",
    "#function2:get the matchest data from database\n",
    "#return list (data,score)\n",
    "comparelist = ['股票分析師','資料工程師','資料科學家']\n",
    "compareWinner = process.extractOne('資料分析師',comparelist)\n",
    "print(compareWinner)\n",
    "\n",
    "\n",
    "\n",
    "text = ['本保險商品重要條款內容與除外責任，請問您清楚嗎']\n",
    "comparelist = text\n",
    "compareWinner = process.extractOne('本商品重要與除外責任，請問您清楚嗎',comparelist)\n",
    "print(compareWinner)\n",
    "\n",
    "\n",
    "# 比對字串\n",
    "text = ['本保險商品重要條款內容與除外責任，請問您清楚嗎']\n",
    "text2 = ['條款內容，請問您清楚嗎']\n",
    "\n",
    "compareScore = fuzz.ratio(text,text2)\n",
    "print(compareScore)\n"
   ]
  },
  {
   "cell_type": "code",
   "execution_count": null,
   "id": "bb608982",
   "metadata": {},
   "outputs": [],
   "source": [
    "text = ['本保險商品重要條款內容與除外責任，請問您清楚嗎']\n",
    "text2 = ['本保險商品']\n",
    "text3 = ['重要條款內容與除外責任']\n",
    "text4 = ['請問您清楚嗎']\n",
    "compareScore = fuzz.ratio(text,text2)\n",
    "print(compareScore)\n"
   ]
  },
  {
   "cell_type": "code",
   "execution_count": null,
   "id": "c2ee73cf",
   "metadata": {},
   "outputs": [],
   "source": [
    "def cut_sentence(content):\n",
    "    content_len = len(content)\n",
    "    sentences = []\n",
    "    tmp_char = ''\n",
    "    for idx,char in enumerate(content):\n",
    "        tmp_char += char\n",
    "        if(idx +1) == content_len:\n",
    "            sentences.append(tmp_char)\n",
    "            break\n",
    "        if char in end_flag:\n",
    "            next_idx =idx+1\n",
    "            if not content[next_idx] in end_flag:\n",
    "                sentences.append(tmp_char)\n",
    "                tmp_char = ''\n",
    "    return sentences"
   ]
  },
  {
   "cell_type": "code",
   "execution_count": null,
   "id": "f2964d3e",
   "metadata": {},
   "outputs": [],
   "source": [
    "# 文本斷句\n",
    "\n",
    "def cut_sentence(content):\n",
    "    end_flag = ['意','楚','嗎']\n",
    "    content_len = len(content)\n",
    "    sentences = []\n",
    "    tmp_char = ''\n",
    "    for idx,char in enumerate(content):\n",
    "        tmp_char += char\n",
    "        \n",
    "        if(idx +1) == content_len:\n",
    "            sentences.append(tmp_char)\n",
    "            break\n",
    "        if char in end_flag:\n",
    "            next_idx =idx+1\n",
    "            if not content[next_idx] in end_flag:\n",
    "                sentences.append(tmp_char)\n",
    "                tmp_char = ''\n",
    "    return sentences"
   ]
  },
  {
   "cell_type": "code",
   "execution_count": null,
   "id": "4af278fe",
   "metadata": {
    "scrolled": false
   },
   "outputs": [],
   "source": [
    "content = '先生您好我是人壽的獲得授權招攬保險商品資格登錄字號是根據法令規定我將以全程錄音方式記錄本次銷售過請問您是否同意您所購買的是人壽發行的傳統型商品以下我將說明本商品內容及及重要事項請您聽完後逐一回答清楚或不清楚正確或不正確請問您是否同意本商品重要條款內容與除外責任請問您清楚本商品具有解約金提醒您若中途解約解約金金額可能低於您所繳保費請問您清楚自保單送達的隔日起算您有10日撤銷契約的權益請問您清楚'\n",
    "sentences = cut_sentence(content)\n",
    "print ('。'.join(sentences))\n",
    "all_sentences = ('。'.join(sentences))"
   ]
  },
  {
   "cell_type": "code",
   "execution_count": null,
   "id": "d6e265bb",
   "metadata": {},
   "outputs": [],
   "source": [
    "# 先段詞然後用、合併後，在依照關鍵字組合，然後再去掉、\n",
    "\n",
    "string = all_sentences\n",
    "result = []\n",
    "# 根据句号分割字符串\n",
    "splited = string.split('。')\n",
    "# 迭代\n",
    "for s in splited:\n",
    "    # 判断字符串中是否存在关键词（Python）\n",
    "    if '授權招攬' in s:\n",
    "        result.append(s)\n",
    "    else:\n",
    "        pass\n",
    "for s in splited:\n",
    "    # 判断字符串中是否存在关键词（Python）\n",
    "    if '我將說明本商品內容及及重要事項' in s:\n",
    "        result.append(s)\n",
    "    else:\n",
    "        pass\n",
    "print('\\n'.join(result))"
   ]
  }
 ],
 "metadata": {
  "kernelspec": {
   "display_name": "Python 3 (ipykernel)",
   "language": "python",
   "name": "python3"
  },
  "language_info": {
   "codemirror_mode": {
    "name": "ipython",
    "version": 3
   },
   "file_extension": ".py",
   "mimetype": "text/x-python",
   "name": "python",
   "nbconvert_exporter": "python",
   "pygments_lexer": "ipython3",
   "version": "3.9.16"
  }
 },
 "nbformat": 4,
 "nbformat_minor": 5
}
