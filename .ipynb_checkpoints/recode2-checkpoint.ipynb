{
 "cells": [
  {
   "cell_type": "code",
   "execution_count": null,
   "id": "b46b2d0e",
   "metadata": {},
   "outputs": [],
   "source": [
    "# 所需安裝套件\n",
    "# pip install python_speech_features\n",
    "# pip install SpeechRecognition\n",
    "# pip install PyAudio \n",
    "# pip install scipy"
   ]
  },
  {
   "cell_type": "code",
   "execution_count": 6,
   "id": "314ddce6",
   "metadata": {},
   "outputs": [],
   "source": [
    "# 引入語音辨識套件\n",
    "import speech_recognition\n",
    "import scipy.io.wavfile as wav\n",
    "r = speech_recognition.Recognizer()\n",
    "\n",
    "with speech_recognition.Microphone() as source:\n",
    "    audio=r.listen(source)\n"
   ]
  },
  {
   "cell_type": "code",
   "execution_count": 12,
   "id": "e53547aa",
   "metadata": {},
   "outputs": [
    {
     "name": "stdout",
     "output_type": "stream",
     "text": [
      "result2:\n",
      "{   'alternative': [   {   'confidence': 0.9226532,\n",
      "                           'transcript': '本保單再配息圖部分皮理解約和滿期給付時定時波動會影響保單帳戶價值可能會有獲利或虧損情形容領回金額有可能低於您所繳保費本商品收付幣別為了比如選擇其他幣別之投資標的匯率波動議會影響保單帳戶提領須自行承擔投資風險再叫他情境下會跆拳道大的投資虧損請問您是否了解了解'},\n",
      "                       {   'transcript': '本保單再配息圖部分埤裡解約和滿期給付時定時波動會影響保單帳戶價值可能會有獲利或虧損情形容領回金額有可能低於您所繳保費某商品收付幣別為了比如選擇其他幣別之投資標的匯率波動議會影響保單帳戶提領須自行承擔投資風險再叫他情境下會產生多大的投資虧損請問您是否了解了解'},\n",
      "                       {   'transcript': '本保單再配息圖部分皮理解約和滿期給付時定時波動會影響保單帳戶價值可能會有獲利或虧損情形容領回金額有可能低於您所繳保費某商品收付幣別為了比如選擇題它幣別之投資標的匯率波動議會影響保單帳戶提領須自行承擔投資風險再叫他情境下會跆拳道大的投資虧損請問您是否了解了解'},\n",
      "                       {   'transcript': '本保單再配息圖部分皮理解約和滿期給付時定時波動會影響保單帳戶價值可能會有獲利或虧損情形容領回金額有可能低於您所繳保費某商品收付幣別為了比如選擇題他幣別之投資標的匯率波動議會影響保單帳戶提領須自行承擔投資風險再叫他情境下會跆拳道大的投資虧損請問您是否了解了解'},\n",
      "                       {   'transcript': '本保單在配息圖部分皮理解約和滿期給付時定時波動會影響保單帳戶價值可能會有獲利或虧損情形容領回金額有可能低於您所繳保費某商品收付幣別為了比如選擇題它幣別之投資標的匯率波動議會影響保單帳戶提領須自行承擔投資風險再叫他情境下會跆拳道大的投資虧損請問您是否了解了解'}],\n",
      "    'final': True}\n",
      "本保單再配息圖部分皮理解約和滿期給付時定時波動會影響保單帳戶價值可能會有獲利或虧損情形容領回金額有可能低於您所繳保費本商品收付幣別為了比如選擇其他幣別之投資標的匯率波動議會影響保單帳戶提領須自行承擔投資風險再叫他情境下會跆拳道大的投資虧損請問您是否了解了解\n"
     ]
    }
   ],
   "source": [
    "# 執行語音辨識\n",
    "\n",
    "import speech_recognition as sr\n",
    "\n",
    "# Create an instance of the Recognizer class\n",
    "recognizer = sr.Recognizer()\n",
    "\n",
    "# Create audio file instance from the original file\n",
    "audio_ex = sr.AudioFile('20230202_225448.wav')\n",
    "type(audio_ex)\n",
    "\n",
    "# Create audio data\n",
    "with audio_ex as source:\n",
    "    audiodata = recognizer.record(audio_ex)\n",
    "type(audiodata)\n",
    "\n",
    "# Extract text\n",
    "text = recognizer.recognize_google(audio_data=audiodata, language='zh-TW')\n",
    "\n",
    "print(text)"
   ]
  },
  {
   "cell_type": "code",
   "execution_count": null,
   "id": "34d1b743",
   "metadata": {},
   "outputs": [],
   "source": [
    "# 建立文件夾將辨識的字串存成word\n",
    "import os,sys,time\n",
    "\n",
    "\n",
    "if not os.path.exists(\"./RECODE\"):\n",
    "    os.mkdir(\"./RECODE\")\n",
    "\n",
    "def GetNowTime():\n",
    "    return time.strftime(\"%y%m%d%H%M%S\"),time.localtime(time.time())\n",
    "time = GetNowTime()\n",
    "fname1=\"./RECODE{}.docx\".format(time)\n",
    "t=open(fname1.encode('utf-8'),'w')\n",
    "t.write(\"text\")\n",
    "t.close()\n"
   ]
  },
  {
   "cell_type": "code",
   "execution_count": null,
   "id": "9228d96d",
   "metadata": {},
   "outputs": [],
   "source": [
    "# 安裝斷詞套件\n",
    "# pip install jieba"
   ]
  },
  {
   "cell_type": "code",
   "execution_count": null,
   "id": "ec04e1b4",
   "metadata": {},
   "outputs": [],
   "source": [
    "# 引入斷詞\n",
    "\n",
    "import jieba\n",
    "\n",
    "documents = [text]\n",
    "# 精確模式\n",
    "for sentence in documents:\n",
    "    seg_list = jieba.cut(sentence)\n",
    "    print('/'.join(seg_list))\n",
    "\n",
    "print('---------------')\n",
    "\n",
    "# 全模式\n",
    "for sentence in documents:\n",
    "    seg_list = jieba.cut(sentence, cut_all=True)\n",
    "    print('/'.join(seg_list))\n",
    "\n",
    "print('---------------')\n",
    "    \n",
    "# 搜索引擎模式\n",
    "for sentence in documents:\n",
    "    seg_list = jieba.cut_for_search(sentence)\n",
    "    print('/'.join(seg_list))"
   ]
  },
  {
   "cell_type": "code",
   "execution_count": null,
   "id": "5c68cf2c",
   "metadata": {
    "scrolled": true
   },
   "outputs": [],
   "source": [
    "import jieba\n",
    "\n",
    "documents = [text]\n",
    "# 精確模式\n",
    "for sentence in documents:\n",
    "    seg_list = jieba.lcut(sentence)\n",
    "    print(seg_list)\n",
    "\n",
    "print('---------------')\n",
    "\n",
    "# 全模式\n",
    "for sentence in documents:\n",
    "    seg_list = jieba.lcut(sentence, cut_all=True)\n",
    "    print(seg_list)\n",
    "\n",
    "print('---------------')\n",
    "\n",
    "# 搜索引擎模式\n",
    "for sentence in documents:\n",
    "    seg_list = jieba.lcut_for_search(sentence)\n",
    "    print(seg_list)"
   ]
  },
  {
   "cell_type": "code",
   "execution_count": 7,
   "id": "2bfbee69",
   "metadata": {},
   "outputs": [],
   "source": [
    "# https://ckip.iis.sinica.edu.tw/\n",
    "# 引入CKIP Tagger — 中文斷詞暨實體辨識系統\n",
    "# pip install -U ckiptagger[tf,gdown] # 完整安裝\n",
    "from ckiptagger import data_utils, construct_dictionary, WS, POS, NER"
   ]
  },
  {
   "cell_type": "code",
   "execution_count": 5,
   "id": "57bf036e",
   "metadata": {},
   "outputs": [
    {
     "name": "stderr",
     "output_type": "stream",
     "text": [
      "Downloading...\n",
      "From: https://drive.google.com/uc?id=1efHsY16pxK0lBD2gYCgCTnv1Swstq771\n",
      "To: C:\\Users\\User\\data.zip\n",
      "100%|██████████| 1.88G/1.88G [08:10<00:00, 3.82MB/s] \n"
     ]
    }
   ],
   "source": [
    "# 下載至 ./data.zip (2GB) 然後解壓縮至 ./data/\n",
    "# data_utils.download_data_url(\"./\") # iis-ckip\n",
    "# data_utils.download_data_gdown(\"./\") # gdrive-ckip"
   ]
  },
  {
   "cell_type": "code",
   "execution_count": 18,
   "id": "b6f8d419",
   "metadata": {},
   "outputs": [
    {
     "name": "stderr",
     "output_type": "stream",
     "text": [
      "C:\\Users\\User\\anaconda3\\envs\\record\\lib\\site-packages\\ckiptagger\\model_ws.py:106: UserWarning: `tf.nn.rnn_cell.LSTMCell` is deprecated and will be removed in a future version. This class is equivalent as `tf.keras.layers.LSTMCell`, and will be replaced by that in Tensorflow 2.0.\n",
      "  cell = tf.compat.v1.nn.rnn_cell.LSTMCell(hidden_d, name=name)\n",
      "C:\\Users\\User\\anaconda3\\envs\\record\\lib\\site-packages\\ckiptagger\\model_pos.py:56: UserWarning: `tf.nn.rnn_cell.LSTMCell` is deprecated and will be removed in a future version. This class is equivalent as `tf.keras.layers.LSTMCell`, and will be replaced by that in Tensorflow 2.0.\n",
      "  cell = tf.compat.v1.nn.rnn_cell.LSTMCell(hidden_d, name=name)\n",
      "C:\\Users\\User\\anaconda3\\envs\\record\\lib\\site-packages\\ckiptagger\\model_ner.py:57: UserWarning: `tf.nn.rnn_cell.LSTMCell` is deprecated and will be removed in a future version. This class is equivalent as `tf.keras.layers.LSTMCell`, and will be replaced by that in Tensorflow 2.0.\n",
      "  cell = tf.compat.v1.nn.rnn_cell.LSTMCell(hidden_d, name=name)\n"
     ]
    }
   ],
   "source": [
    "# 讀取\n",
    "\n",
    "ws = WS(\"./data\")\n",
    "pos = POS(\"./data\")\n",
    "ner = NER(\"./data\")\n",
    "\n",
    "# 釋放資源\n",
    "\n",
    "# del ws\n",
    "# del pos\n",
    "# del ner"
   ]
  },
  {
   "cell_type": "code",
   "execution_count": 19,
   "id": "391d1515",
   "metadata": {},
   "outputs": [
    {
     "name": "stdout",
     "output_type": "stream",
     "text": [
      "[(4, {'部分提領': 1.0}), (6, {'保單帳戶價值': 1.0}), (12, {'中國人壽保險股份有限公司': 1.0})]\n"
     ]
    }
   ],
   "source": [
    "#建立詞典 斷詞參考詞典與權重\n",
    "word_to_weight = {\n",
    "    \"中國人壽保險股份有限公司\":1,\n",
    "    \"保單帳戶價值\":1,\n",
    "    \"部分提領\":1,\n",
    "}\n",
    "dictionary = construct_dictionary(word_to_weight)\n",
    "print(dictionary)"
   ]
  },
  {
   "cell_type": "code",
   "execution_count": 20,
   "id": "68ff6c6e",
   "metadata": {},
   "outputs": [
    {
     "name": "stdout",
     "output_type": "stream",
     "text": [
      "[(4, {'部分提領': 1.0}), (6, {'保單帳戶價值': 1.0}), (7, {'投保的商品目的': 1.0, '低於您所繳保費': 1.0}), (12, {'中國人壽股份保險有限公司': 1.0})]\n"
     ]
    }
   ],
   "source": [
    "#建立詞典 斷詞強制詞典與權重\n",
    "word_to_weight_s = {\n",
    "    \"中國人壽股份保險有限公司\":1,\n",
    "    \"保單帳戶價值\":1,\n",
    "    \"部分提領\":1,\n",
    "    \"投保的商品目的\":1,\n",
    "    \"低於您所繳保費\":1,\n",
    "}\n",
    "dictionary2 = construct_dictionary(word_to_weight_s)\n",
    "print(dictionary2)"
   ]
  },
  {
   "cell_type": "code",
   "execution_count": 22,
   "id": "26c36215",
   "metadata": {},
   "outputs": [],
   "source": [
    "\n",
    "sentence_list = [text]\n",
    "\n",
    "word_sentence_list = ws(\n",
    "    sentence_list,\n",
    "    # sentence_segmentation = True, # To consider delimiters\n",
    "    # segment_delimiter_set = {\",\", \"。\", \":\", \"?\", \"!\", \";\"}), # This is the defualt set of delimiters\n",
    "     recommend_dictionary = dictionary, # words in this dictionary are encouraged\n",
    "     coerce_dictionary = dictionary2, # words in this dictionary are forced\n",
    ")\n",
    "\n",
    "pos_sentence_list = pos(word_sentence_list)\n",
    "\n",
    "entity_sentence_list = ner(word_sentence_list, pos_sentence_list)"
   ]
  },
  {
   "cell_type": "code",
   "execution_count": null,
   "id": "83d2bcb0",
   "metadata": {},
   "outputs": [],
   "source": [
    "def print_word_pos_sentence(word_sentence, pos_sentence):\n",
    "    assert len(word_sentence) == len(pos_sentence)\n",
    "    for word, pos in zip(word_sentence, pos_sentence):\n",
    "        print(f\"{word}({pos})\", end=\"\\n\")\n",
    "    print()\n",
    "    return\n",
    "    \n",
    "for i, sentence in enumerate(sentence_list):\n",
    "    print('------------------文本-----------------------------')\n",
    "    print(f\"'{sentence}'\" )\n",
    "    print('------------------斷詞-----------------------------')\n",
    "    print_word_pos_sentence(word_sentence_list[i],  pos_sentence_list[i])\n",
    "    for entity in sorted(entity_sentence_list[i]):\n",
    "        print(entity)"
   ]
  },
  {
   "cell_type": "code",
   "execution_count": null,
   "id": "b33a36e4",
   "metadata": {},
   "outputs": [],
   "source": [
    "# pip install python-docx\n",
    "# pip install python-docx\n",
    "# pip install docxtpl"
   ]
  },
  {
   "cell_type": "code",
   "execution_count": 25,
   "id": "0b1aaf84",
   "metadata": {},
   "outputs": [],
   "source": [
    "# 導入套件\n",
    "from docx import Document\n",
    "from openpyxl import load_workbook  # 讀取excel\n",
    "from docxtpl import DocxTemplate # 寫入doc\n",
    "import os"
   ]
  },
  {
   "cell_type": "code",
   "execution_count": 26,
   "id": "98249752",
   "metadata": {},
   "outputs": [
    {
     "name": "stdout",
     "output_type": "stream",
     "text": [
      "[{'plancode': 'AJD', 'version': 'test1'}, {'plancode': 'AJX', 'version': 'test2'}, {'plancode': 'HSR', 'version': 'test3'}, {'plancode': 'XLJ', 'version': 'test4'}]\n"
     ]
    }
   ],
   "source": [
    "# 讀取版本table\n",
    "wb2 =load_workbook(r\"C:\\Users\\User\\test2.xlsx\")\n",
    "ws2 =wb2['Sheet1']\n",
    "contexts_version = []\n",
    "for row in range(2,ws2.max_row+1):\n",
    "    plancode = ws2[\"A\"+str(row)].value\n",
    "    version =ws2[\"B\"+str(row)].value\n",
    "    \n",
    "    context2 = {\"plancode\":plancode,\"version\":version}\n",
    "    contexts_version .append(context2)\n",
    "\n",
    "print(contexts_version)"
   ]
  },
  {
   "cell_type": "code",
   "execution_count": 27,
   "id": "29ad47ac",
   "metadata": {},
   "outputs": [
    {
     "name": "stdout",
     "output_type": "stream",
     "text": [
      "[{'name': '陳曉明', 'idno': 'A125845758', 'plancode': 'AJD', 'Product': '中國人壽馫興保險', 'premium': 52000, 'purpos': '子女教育'}, {'name': '張小威', 'idno': 'A252585854', 'plancode': 'AJX', 'Product': '中國人壽平安終身壽險', 'premium': 12000, 'purpos': '投資'}, {'name': '王小藍', 'idno': 'A251854556', 'plancode': 'HSR', 'Product': '中國人壽健康保險', 'premium': 322000, 'purpos': '保障'}, {'name': '梁大大', 'idno': 'A125848585', 'plancode': 'XLJ', 'Product': '中國人壽利率變動保險', 'premium': 50000, 'purpos': '退休規劃'}, {'name': '張大涮', 'idno': 'A125848565', 'plancode': 'XLJ', 'Product': '中國人壽利率變動保險', 'premium': 70000, 'purpos': '投資'}, {'name': '王小祝', 'idno': 'A251854666', 'plancode': 'HSR', 'Product': '中國人壽健康保險', 'premium': 322000, 'purpos': '保障'}, {'name': '陳翁明', 'idno': 'A125845345', 'plancode': 'AJD', 'Product': '中國人壽馫興保險', 'premium': 122000, 'purpos': '子女教育'}]\n"
     ]
    }
   ],
   "source": [
    "# 讀取要保資料\n",
    "wb =load_workbook(r\"C:\\Users\\User\\test1.xlsx\")\n",
    "ws =wb['Sheet1']\n",
    "contexts = []\n",
    "for row in range(2,ws.max_row+1):\n",
    "    name = ws[\"A\"+str(row)].value\n",
    "    idno = ws[\"B\"+str(row)].value\n",
    "    plancode = ws[\"C\"+str(row)].value\n",
    "    Product = ws[\"D\"+str(row)].value\n",
    "    premium =ws[\"E\"+str(row)].value\n",
    "    purpos =ws[\"F\"+str(row)].value\n",
    "    \n",
    "    context = {\"name\":name ,\"idno\":idno ,\"plancode\":plancode,\"Product\":Product,\"premium\":premium,\"purpos\":purpos}\n",
    "    contexts.append(context)\n",
    "print(contexts)\n"
   ]
  },
  {
   "cell_type": "code",
   "execution_count": 28,
   "id": "5000ba97",
   "metadata": {},
   "outputs": [
    {
     "name": "stdout",
     "output_type": "stream",
     "text": [
      "test1 AJD 陳曉明\n",
      "test1 AJD 陳翁明\n",
      "test2 AJX 張小威\n",
      "test3 HSR 王小藍\n",
      "test3 HSR 王小祝\n",
      "test4 XLJ 梁大大\n",
      "test4 XLJ 張大涮\n"
     ]
    }
   ],
   "source": [
    "# 比對要保資料中險種對應的宣讀版本\n",
    "for item in contexts_version:\n",
    "    for item_2 in contexts:\n",
    "         if(item['plancode']==item_2['plancode']):\n",
    "            print(item['version'],item_2['plancode'],item_2['name'])\n"
   ]
  },
  {
   "cell_type": "code",
   "execution_count": 29,
   "id": "357cc6f4",
   "metadata": {},
   "outputs": [],
   "source": [
    "# 建立文件夾\n",
    "\n",
    "if not os.path.exists(\"./ALL\"):\n",
    "    os.mkdir(\"./ALL\")\n",
    "\n",
    "# 依照版本進行data binding\n",
    "    \n",
    "for context in contexts:\n",
    "    for item in contexts_version:\n",
    "            if(item['plancode']==context['plancode']):\n",
    "                tpl = DocxTemplate(r\"C:\\Users\\User\\{}.docx\".format(item[\"version\"]))\n",
    "                tpl.render(context)\n",
    "                tpl.save(\"./ALL/{}.docx\".format(context[\"name\"]))"
   ]
  },
  {
   "cell_type": "code",
   "execution_count": 42,
   "id": "cc2e2861",
   "metadata": {},
   "outputs": [
    {
     "data": {
      "text/plain": [
       "True"
      ]
     },
     "execution_count": 42,
     "metadata": {},
     "output_type": "execute_result"
    }
   ],
   "source": [
    "# 進行文本比對\n",
    "\n",
    "import docx\n",
    "import codecs\n",
    "import difflib\n",
    "import webbrowser  \n",
    "\n",
    "file1 = docx.Document('./ALL/陳翁明.docx')\n",
    "file2 = docx.Document('./ALL/陳曉明.docx')\n",
    "\n",
    "para1=''\n",
    "para2=''\n",
    "\n",
    "\n",
    "for para in file1.paragraphs:\n",
    "    para1=para1+para.text+'\\n'\n",
    "# print(para1)\n",
    "for para in file2.paragraphs:\n",
    "    para2=para2+para.text+'\\n'\n",
    "# print(para2)\n",
    "\n",
    "d = difflib.HtmlDiff()\n",
    "htmlContent = d.make_file(para1,para2)\n",
    "#print(htmlContent)\n",
    "with open('diff.html','w',encoding = 'utf-8') as f:\n",
    "    f.write(htmlContent)\n",
    "    \n",
    "urL='diff.html'\n",
    "webbrowser.get('windows-default').open_new(urL)"
   ]
  },
  {
   "cell_type": "code",
   "execution_count": 43,
   "id": "b503acf6",
   "metadata": {},
   "outputs": [
    {
     "name": "stdout",
     "output_type": "stream",
     "text": [
      "  T  e  s  t  1  \n",
      "  中  國  人  壽  高  齡  銷  售  過  程  錄  音  範  本  A  J  D  \n",
      "  \n",
      "  Q  1  您  好  我  是  中  國  人  壽  業  務  員  陳- 翁+ 曉  明  ，  我  的  登  錄  證  號  為  A  1  2  5  8  4  5+ 7- 3- 4  5+ 8  ，  本  次  投  保  的  商  品  為  A  J  D  ，  中  國  人  壽  馫  興  保  險  ，  本  次  投  保  保  費  為  元  ，  投  保  目  的  為  ，  請  問  您  是  否  清  楚  ?     A  J  D  我  是  中  國  人  壽  馫  興  保  險  ，  、  A  1  2  5  8  4  5+ 7- 3- 4  5+ 8  、  陳- 翁+ 曉  明  ，  確  認  。  \n",
      "  A  J  D  A  J  D  A  J  D  A  J  D  \n",
      "\n"
     ]
    }
   ],
   "source": [
    "d = difflib.Differ()\n",
    "print(''.join(list(d.compare(para1,para2))))"
   ]
  },
  {
   "cell_type": "code",
   "execution_count": 14,
   "id": "a0b6dfb7",
   "metadata": {},
   "outputs": [
    {
     "data": {
      "text/plain": [
       "0"
      ]
     },
     "execution_count": 14,
     "metadata": {},
     "output_type": "execute_result"
    }
   ],
   "source": [
    "# TTS\n",
    "# pip install pyttsx3 安裝套件\n",
    "# pip install gTTs 安裝套件\n",
    "from gtts import gTTS\n",
    "from gtts import gTTS\n",
    "import os\n",
    "\n",
    "#此句為輸入的文字\n",
    "# mytext = '張禹崴先生/女士，您好！我是中國人壽的王羽藍獲得授權招攬保險商品資格，登錄字號是00902525451。根據法令規定，我將以全程錄音方式記錄本次銷售過程。請問您是否同意?'\n",
    "mytext = text\n",
    "language = 'zh-tw'\n",
    "myobj = gTTS(text=mytext, lang=language, slow=False)\n",
    "#儲存為output的mp3檔案\n",
    "myobj.save(\"output.mp3\")\n",
    "\n",
    "os.system(\"start output.mp3\")"
   ]
  },
  {
   "cell_type": "code",
   "execution_count": 52,
   "id": "e4c4bd84",
   "metadata": {},
   "outputs": [
    {
     "name": "stdout",
     "output_type": "stream",
     "text": [
      "100\n",
      "('股票分析師', 60)\n",
      "('本保險商品重要條款內容與除外責任，請問您清楚嗎', 95)\n"
     ]
    }
   ],
   "source": [
    "# 導入模糊比對\n",
    "# pip install fuzzywuzzy\n",
    "\n",
    "from fuzzywuzzy import fuzz\n",
    "from fuzzywuzzy import process\n",
    "\n",
    "# 比對字串\n",
    "compareScore = fuzz.ratio('資料分析師','資料分析師')\n",
    "print(compareScore)\n",
    "\n",
    "#function2:get the matchest data from database\n",
    "#return list (data,score)\n",
    "comparelist = ['股票分析師','資料工程師','資料科學家']\n",
    "compareWinner = process.extractOne('資料分析師',comparelist)\n",
    "print(compareWinner)\n",
    "\n",
    "\n",
    "\n",
    "text = ['本保險商品重要條款內容與除外責任，請問您清楚嗎']\n",
    "comparelist = text\n",
    "compareWinner = process.extractOne('本商品重要條款內容與除外責任，請問您清楚嗎',comparelist)\n",
    "print(compareWinner)\n"
   ]
  },
  {
   "cell_type": "code",
   "execution_count": 84,
   "id": "f2964d3e",
   "metadata": {},
   "outputs": [],
   "source": [
    "# 文本斷句\n",
    "\n",
    "def cut_sentence(content):\n",
    "    end_flag = ['意','楚','嗎']\n",
    "    content_len = len(content)\n",
    "    sentences = []\n",
    "    tmp_char = ''\n",
    "    for idx,char in enumerate(content):\n",
    "        tmp_char += char\n",
    "        \n",
    "        if(idx +1) == content_len:\n",
    "            sentences.append(tmp_char)\n",
    "            break\n",
    "        if char in end_flag:\n",
    "            next_idx =idx+1\n",
    "            if not content[next_idx] in end_flag:\n",
    "                sentences.append(tmp_char)\n",
    "                tmp_char = ''\n",
    "    return sentences"
   ]
  },
  {
   "cell_type": "code",
   "execution_count": 85,
   "id": "4af278fe",
   "metadata": {
    "scrolled": true
   },
   "outputs": [
    {
     "name": "stdout",
     "output_type": "stream",
     "text": [
      "先生您好我是人壽的獲得授權招攬保險商品資格登錄字號是根據法令規定我將以全程錄音方式記錄本次銷售過請問您是否同意\n",
      "\n",
      "您所購買的是人壽發行的傳統型商品以下我將說明本商品內容及及重要事項請您聽完後逐一回答清楚\n",
      "\n",
      "或不清楚\n",
      "\n",
      "正確或不正確請問您是否同意\n",
      "\n",
      "本商品重要條款內容與除外責任請問您清楚\n",
      "\n",
      "本商品具有解約金提醒您若中途解約解約金金額可能低於您所繳保費請問您清楚\n",
      "\n",
      "自保單送達的隔日起算您有10日撤銷契約的權益請問您清楚\n"
     ]
    }
   ],
   "source": [
    "content = '先生您好我是人壽的獲得授權招攬保險商品資格登錄字號是根據法令規定我將以全程錄音方式記錄本次銷售過請問您是否同意您所購買的是人壽發行的傳統型商品以下我將說明本商品內容及及重要事項請您聽完後逐一回答清楚或不清楚正確或不正確請問您是否同意本商品重要條款內容與除外責任請問您清楚本商品具有解約金提醒您若中途解約解約金金額可能低於您所繳保費請問您清楚自保單送達的隔日起算您有10日撤銷契約的權益請問您清楚'\n",
    "sentences = cut_sentence(content)\n",
    "print ('\\n\\n'.join(sentences))"
   ]
  }
 ],
 "metadata": {
  "kernelspec": {
   "display_name": "Python 3 (ipykernel)",
   "language": "python",
   "name": "python3"
  },
  "language_info": {
   "codemirror_mode": {
    "name": "ipython",
    "version": 3
   },
   "file_extension": ".py",
   "mimetype": "text/x-python",
   "name": "python",
   "nbconvert_exporter": "python",
   "pygments_lexer": "ipython3",
   "version": "3.9.16"
  }
 },
 "nbformat": 4,
 "nbformat_minor": 5
}
